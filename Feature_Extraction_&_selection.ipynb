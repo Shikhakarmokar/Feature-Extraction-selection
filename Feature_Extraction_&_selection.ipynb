{
  "nbformat": 4,
  "nbformat_minor": 0,
  "metadata": {
    "colab": {
      "provenance": []
    },
    "kernelspec": {
      "name": "python3",
      "display_name": "Python 3"
    },
    "language_info": {
      "name": "python"
    }
  },
  "cells": [
    {
      "cell_type": "code",
      "execution_count": null,
      "metadata": {
        "colab": {
          "base_uri": "https://localhost:8080/"
        },
        "id": "dm-CBDhpksfU",
        "outputId": "95bee578-ebeb-4f99-8b35-4246e98e8742"
      },
      "outputs": [
        {
          "output_type": "stream",
          "name": "stdout",
          "text": [
            "Requirement already satisfied: pyspark in /usr/local/lib/python3.10/dist-packages (3.5.2)\n",
            "Requirement already satisfied: py4j==0.10.9.7 in /usr/local/lib/python3.10/dist-packages (from pyspark) (0.10.9.7)\n"
          ]
        }
      ],
      "source": [
        "pip install pyspark"
      ]
    },
    {
      "cell_type": "code",
      "source": [
        "from pyspark.sql import SparkSession\n",
        "from pyspark.ml.feature import StringIndexer, OneHotEncoder,StandardScaler,VectorAssembler,ChiSqSelector\n",
        "from pyspark.ml import Pipeline\n",
        "from pyspark.sql.functions import col"
      ],
      "metadata": {
        "id": "yRE87WOJlnTP"
      },
      "execution_count": null,
      "outputs": []
    },
    {
      "cell_type": "code",
      "source": [
        "#create a spark session\n",
        "spark = SparkSession.builder.appName(\"BostonHousing\").getOrCreate()"
      ],
      "metadata": {
        "id": "A_SH-xakmRfW"
      },
      "execution_count": null,
      "outputs": []
    },
    {
      "cell_type": "code",
      "source": [
        "data = spark.read.csv(\"/content/HousingData.csv\",header=True,inferSchema=True)\n",
        "data.printSchema()"
      ],
      "metadata": {
        "colab": {
          "base_uri": "https://localhost:8080/"
        },
        "id": "OlWU1O-dm2Hc",
        "outputId": "c778dce8-a5e9-42f2-94a4-fb4cd8dff333"
      },
      "execution_count": null,
      "outputs": [
        {
          "output_type": "stream",
          "name": "stdout",
          "text": [
            "root\n",
            " |-- CRIM: string (nullable = true)\n",
            " |-- ZN: string (nullable = true)\n",
            " |-- INDUS: string (nullable = true)\n",
            " |-- CHAS: string (nullable = true)\n",
            " |-- NOX: double (nullable = true)\n",
            " |-- RM: double (nullable = true)\n",
            " |-- AGE: string (nullable = true)\n",
            " |-- DIS: double (nullable = true)\n",
            " |-- RAD: integer (nullable = true)\n",
            " |-- TAX: integer (nullable = true)\n",
            " |-- PTRATIO: double (nullable = true)\n",
            " |-- B: double (nullable = true)\n",
            " |-- LSTAT: string (nullable = true)\n",
            " |-- MEDV: double (nullable = true)\n",
            "\n"
          ]
        }
      ]
    },
    {
      "cell_type": "code",
      "source": [
        "categorical_cols = [\"CHAS\",\"RAD\"]\n",
        "numerical_cols = [\"CRIM\",\"ZN\",\"INDUS\",\"NOX\",\"RM\",\"AGE\",\"DIS\",\"TAX\",\"PTRATIO\",\"B\",\"LSTAT\"]"
      ],
      "metadata": {
        "id": "4DLvSBIvnKFO"
      },
      "execution_count": null,
      "outputs": []
    },
    {
      "cell_type": "code",
      "source": [
        "from pyspark.sql.types import DoubleType"
      ],
      "metadata": {
        "id": "D8m6Wq8qnvMm"
      },
      "execution_count": null,
      "outputs": []
    },
    {
      "cell_type": "code",
      "source": [
        "from pyspark.ml.feature import Imputer # import the Imputer class\n",
        "\n",
        "for col_name in numerical_cols + [\"MEDV\"]:\n",
        "  data = data.withColumn(col_name,col(col_name).cast(DoubleType()))\n",
        "imputer = Imputer(inputCols=numerical_cols,outputCols=numerical_cols)\n",
        "imputer.setStrategy(\"mean\")"
      ],
      "metadata": {
        "colab": {
          "base_uri": "https://localhost:8080/"
        },
        "id": "SukcOzcHn16c",
        "outputId": "937dc9fb-46f7-49e7-edb0-52dbd7403d7c"
      },
      "execution_count": null,
      "outputs": [
        {
          "output_type": "execute_result",
          "data": {
            "text/plain": [
              "Imputer_2b4b3582d07c"
            ]
          },
          "metadata": {},
          "execution_count": 41
        }
      ]
    },
    {
      "cell_type": "code",
      "source": [
        "#handle categorical features\n",
        "from pyspark.sql.functions import when,col\n",
        "for cat_col in categorical_cols:\n",
        "  data = data.withColumn(cat_col,when(col(cat_col).isNull(),\"Unknown\").otherwise(col(cat_col)))\n",
        "indexers = [StringIndexer(inputCol=col,outputCol=f\"{col}_indexed\",handleInvalid=\"keep\") for col in categorical_cols]\n",
        "encoders = [OneHotEncoder(inputCol=f\"{col}_indexed\",outputCol=f\"{col}_encoded\")for col in categorical_cols]\n"
      ],
      "metadata": {
        "id": "dwUcSFYEobC-"
      },
      "execution_count": null,
      "outputs": []
    },
    {
      "cell_type": "code",
      "source": [
        "#Scale numerical features\n",
        "assembler_num = VectorAssembler(inputCols=numerical_cols,outputCol=\"num_features\")\n",
        "scaler = StandardScaler(inputCol = \"num_features\",outputCol=\"scaled_num_features\",withStd=True,withMean = True)\n"
      ],
      "metadata": {
        "id": "0JbJ_IwEqx-c"
      },
      "execution_count": null,
      "outputs": []
    },
    {
      "cell_type": "code",
      "source": [
        "encoded_cols = [f\"{col}_encoded\" for col in categorical_cols]\n",
        "assembler = VectorAssembler(inputCols=encoded_cols + [\"scaled_num_features\"],outputCol=\"features\")"
      ],
      "metadata": {
        "id": "a5LpV1YCu-5e"
      },
      "execution_count": null,
      "outputs": []
    },
    {
      "cell_type": "code",
      "source": [
        "#Combine features\n",
        "median_medv = data.approxQuantile(\"MEDV\",[0.5],0.01)[0]\n",
        "data = data.withColumn(\"label\",(col(\"MEDV\")>median_medv).cast(\"double\"))\n",
        "selector = ChiSqSelector(numTopFeatures=10,featuresCol=\"features\",outputCol=\"selected_features\",labelCol = \"label\")"
      ],
      "metadata": {
        "id": "Cvvyhza7rdKE"
      },
      "execution_count": null,
      "outputs": []
    },
    {
      "cell_type": "code",
      "source": [
        "pipeline = Pipeline(stages=[imputer]+indexers+ encoders+ [assembler_num, scaler, assembler,selector])\n",
        "try:\n",
        "  model = pipeline.fit(data)\n",
        "  result = model.transform(data)\n",
        "  result.select(\"selected_features\",\"label\").show(5,truncate=False)\n",
        "  feature_importances = model.stages[-1].selectedFeatures\n",
        "  print(\"Selected Feature indices:\",feature_importances)\n",
        "except Exception as e:\n",
        "  print(f\"An error has occured: {str(e)}\")\n"
      ],
      "metadata": {
        "colab": {
          "base_uri": "https://localhost:8080/"
        },
        "id": "GSA3JOO8tYgr",
        "outputId": "ea9b4243-bd53-41f4-e2de-d5206d83d0fa"
      },
      "execution_count": null,
      "outputs": [
        {
          "output_type": "stream",
          "name": "stdout",
          "text": [
            "+---------------------------------------------------------------------------------------------------------------------------+-----+\n",
            "|selected_features                                                                                                          |label|\n",
            "+---------------------------------------------------------------------------------------------------------------------------+-----+\n",
            "|(10,[5,6,7,8,9],[0.29614984653077786,-1.3097142836688263,-0.14407485473245793,-0.6659491794887344,-1.4575579672895913])    |1.0  |\n",
            "|(10,[5,6,7,8,9],[-0.4891544449063988,-0.5991779446787058,-0.7395303607434325,-0.9863533804386955,-0.3027944997494501])     |1.0  |\n",
            "|(10,[5,6,7,8,9],[-0.4891544449063988,-0.5991779446787058,-0.7395303607434325,-0.9863533804386955,-0.3027944997494501])     |1.0  |\n",
            "|(10,[3,5,6,7,8,9],[1.0,-0.4891544449063988,-1.3291196878849432,-0.8344580501075004,-1.105021603012755,0.11292034856500006])|1.0  |\n",
            "|(10,[3,5,6,7,8,9],[1.0,-0.4891544449063988,-1.3291196878849432,-0.8344580501075004,-1.105021603012755,0.11292034856500006])|1.0  |\n",
            "+---------------------------------------------------------------------------------------------------------------------------+-----+\n",
            "only showing top 5 rows\n",
            "\n",
            "Selected Feature indices: [1, 3, 4, 6, 9, 13, 14, 15, 19, 20]\n"
          ]
        }
      ]
    },
    {
      "cell_type": "code",
      "source": [
        "spark.stop()"
      ],
      "metadata": {
        "id": "QG2Qznymug0D"
      },
      "execution_count": null,
      "outputs": []
    },
    {
      "cell_type": "code",
      "source": [],
      "metadata": {
        "id": "t2bCAmWVwmTC"
      },
      "execution_count": null,
      "outputs": []
    }
  ]
}